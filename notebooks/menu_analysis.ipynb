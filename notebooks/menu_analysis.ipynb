{
    "cells": [
        {
            "cell_type": "code",
            "execution_count": 1,
            "metadata": {},
            "outputs": [],
            "source": [
                "import sys\n",
                "import os\n",
                "\n",
                "sys.path.append(os.path.abspath(os.path.join(os.getcwd(), '..')))\n"
            ]
        },
        {
            "cell_type": "code",
            "execution_count": 2,
            "metadata": {},
            "outputs": [],
            "source": [
                "from maestro_pizza_maker.pizza_menu import PizzaMenu\n",
                "from maestro_pizza_maker.pizza import Pizza\n",
                "from maestro_pizza_maker.ingredients import PizzaIngredients\n",
                "import matplotlib.pyplot as plt \n",
                "from maestro_pizza_maker.pizza_sensitivities import menu_sensitivity_protein,menu_sensitivity_carbs,menu_sensitivity_fat\n",
                "from maestro_pizza_maker.taste_at_risk import taste_at_risk_menu,taste_at_risk_pizza,conditional_taste_at_risk_menu,conditional_taste_at_risk_pizza"
            ]
        },
        {
            "cell_type": "code",
            "execution_count": 3,
            "metadata": {},
            "outputs": [],
            "source": [
                "# consider following menu\n",
                "pizza_menu = PizzaMenu(\n",
                "    pizzas=[\n",
                "        Pizza(\n",
                "            sauce=PizzaIngredients.CREAM_SAUCE,\n",
                "            dough=PizzaIngredients.CLASSIC_DOUGH,\n",
                "            cheese=[PizzaIngredients.MOZZARELA],\n",
                "            fruits=[PizzaIngredients.PINEAPPLE],\n",
                "            meat=[PizzaIngredients.BACON, PizzaIngredients.HAM],\n",
                "            vegetables=[PizzaIngredients.ONIONS],\n",
                "        ),\n",
                "        Pizza(\n",
                "            sauce=PizzaIngredients.TOMATO_SAUCE,\n",
                "            dough=PizzaIngredients.THIN_DOUGH,\n",
                "            cheese=[PizzaIngredients.CHEDDAR],\n",
                "            fruits=[PizzaIngredients.APPLE],\n",
                "            meat=[PizzaIngredients.SAUSAGE],\n",
                "            vegetables=[PizzaIngredients.MUSHROOMS, PizzaIngredients.PEPPER],\n",
                "        ),\n",
                "        Pizza(\n",
                "            sauce=PizzaIngredients.CREAM_SAUCE,\n",
                "            dough=PizzaIngredients.WHOLEMEAL_DOUGH,\n",
                "            cheese=[PizzaIngredients.MOZZARELA, PizzaIngredients.CHEDDAR],\n",
                "            fruits=[PizzaIngredients.PINEAPPLE, PizzaIngredients.APPLE],\n",
                "            meat=[\n",
                "                PizzaIngredients.BACON,\n",
                "                PizzaIngredients.HAM,\n",
                "                PizzaIngredients.SAUSAGE,\n",
                "            ],\n",
                "            vegetables=[\n",
                "                PizzaIngredients.MUSHROOMS,\n",
                "                PizzaIngredients.ONIONS,\n",
                "                PizzaIngredients.PEPPER,\n",
                "            ],\n",
                "        ),\n",
                "        Pizza(\n",
                "            sauce=PizzaIngredients.TOMATO_SAUCE,\n",
                "            dough=PizzaIngredients.CLASSIC_DOUGH,\n",
                "            cheese=[PizzaIngredients.MOZZARELA],\n",
                "            fruits=[PizzaIngredients.PINEAPPLE],\n",
                "            meat=[PizzaIngredients.BACON, PizzaIngredients.HAM],\n",
                "            vegetables=[PizzaIngredients.ONIONS],\n",
                "        ),\n",
                "        Pizza(\n",
                "            sauce=PizzaIngredients.CREAM_SAUCE,\n",
                "            dough=PizzaIngredients.THIN_DOUGH,\n",
                "            cheese=[PizzaIngredients.CHEDDAR],\n",
                "            fruits=[PizzaIngredients.APPLE],\n",
                "            meat=[PizzaIngredients.SAUSAGE],\n",
                "            vegetables=[PizzaIngredients.MUSHROOMS, PizzaIngredients.PEPPER],\n",
                "        ),\n",
                "        Pizza(\n",
                "            sauce=PizzaIngredients.TOMATO_SAUCE,\n",
                "            dough=PizzaIngredients.WHOLEMEAL_DOUGH,\n",
                "            cheese=[PizzaIngredients.MOZZARELA, PizzaIngredients.CHEDDAR],\n",
                "            fruits=[PizzaIngredients.PINEAPPLE, PizzaIngredients.APPLE],\n",
                "            meat=[\n",
                "                PizzaIngredients.BACON,\n",
                "                PizzaIngredients.HAM,\n",
                "                PizzaIngredients.SAUSAGE,\n",
                "            ],\n",
                "            vegetables=[\n",
                "                PizzaIngredients.MUSHROOMS,\n",
                "                PizzaIngredients.ONIONS,\n",
                "                PizzaIngredients.PEPPER,\n",
                "            ],\n",
                "        ),\n",
                "        Pizza(\n",
                "            sauce=PizzaIngredients.CREAM_SAUCE,\n",
                "            dough=PizzaIngredients.CLASSIC_DOUGH,\n",
                "            cheese=[PizzaIngredients.MOZZARELA],\n",
                "            fruits=[PizzaIngredients.PINEAPPLE],\n",
                "            meat=[PizzaIngredients.BACON, PizzaIngredients.HAM],\n",
                "            vegetables=[PizzaIngredients.ONIONS],\n",
                "        ),\n",
                "        Pizza(\n",
                "            sauce=PizzaIngredients.TOMATO_SAUCE,\n",
                "            dough=PizzaIngredients.THIN_DOUGH,\n",
                "            cheese=[PizzaIngredients.CHEDDAR],\n",
                "            fruits=[PizzaIngredients.APPLE],\n",
                "            meat=[PizzaIngredients.SAUSAGE],\n",
                "            vegetables=[PizzaIngredients.MUSHROOMS, PizzaIngredients.PEPPER],\n",
                "        ),\n",
                "        Pizza(\n",
                "            sauce=PizzaIngredients.CREAM_SAUCE,\n",
                "            dough=PizzaIngredients.WHOLEMEAL_DOUGH,\n",
                "            cheese=[PizzaIngredients.MOZZARELA, PizzaIngredients.CHEDDAR],\n",
                "            fruits=[PizzaIngredients.PINEAPPLE, PizzaIngredients.APPLE],\n",
                "            meat=[\n",
                "                PizzaIngredients.BACON,\n",
                "                PizzaIngredients.HAM,\n",
                "                PizzaIngredients.SAUSAGE,\n",
                "            ],\n",
                "            vegetables=[\n",
                "                PizzaIngredients.MUSHROOMS,\n",
                "                PizzaIngredients.ONIONS,\n",
                "                PizzaIngredients.PEPPER,\n",
                "            ],\n",
                "        ),\n",
                "        Pizza(\n",
                "            sauce=PizzaIngredients.TOMATO_SAUCE,\n",
                "            dough=PizzaIngredients.CLASSIC_DOUGH,\n",
                "            cheese=[PizzaIngredients.MOZZARELA],\n",
                "            fruits=[PizzaIngredients.PINEAPPLE],\n",
                "            meat=[PizzaIngredients.BACON, PizzaIngredients.HAM],\n",
                "            vegetables=[PizzaIngredients.ONIONS],\n",
                "        ),\n",
                "    ]\n",
                ")\n"
            ]
        },
        {
            "cell_type": "code",
            "execution_count": 4,
            "metadata": {},
            "outputs": [
                {
                    "name": "stdout",
                    "output_type": "stream",
                    "text": [
                        "|    | name                                                                                                           |   price |   protein |   average_fat |   carbohydrates |   calories | ingredients                                                                                                                                  |\n",
                        "|---:|:---------------------------------------------------------------------------------------------------------------|--------:|----------:|--------------:|----------------:|-----------:|:---------------------------------------------------------------------------------------------------------------------------------------------|\n",
                        "|  2 | APPLE_BACON_CHEDDAR_CREAM_SAUCE_HAM_MOZZRELA_MUSHROOMS_ONIONS_PEPPER_PINEAPPLE_SAUSAGE_WHOLEMEAL_DOUGH_820ed2  |    12.6 |      95.6 |       28.7879 |              39 |       2780 | ['WHOLEMEAL DOUGH', 'CREAM SAUCE', 'MOZZRELA', 'CHEDDAR', 'PINEAPPLE', 'APPLE', 'BACON', 'HAM', 'SAUSAGE', 'MUSHROOMS', 'ONIONS', 'PEPPER']  |\n",
                        "|  8 | APPLE_BACON_CHEDDAR_CREAM_SAUCE_HAM_MOZZRELA_MUSHROOMS_ONIONS_PEPPER_PINEAPPLE_SAUSAGE_WHOLEMEAL_DOUGH_6cbbd9  |    12.6 |      95.6 |       28.7879 |              39 |       2780 | ['WHOLEMEAL DOUGH', 'CREAM SAUCE', 'MOZZRELA', 'CHEDDAR', 'PINEAPPLE', 'APPLE', 'BACON', 'HAM', 'SAUSAGE', 'MUSHROOMS', 'ONIONS', 'PEPPER']  |\n",
                        "|  5 | APPLE_BACON_CHEDDAR_HAM_MOZZRELA_MUSHROOMS_ONIONS_PEPPER_PINEAPPLE_SAUSAGE_TOMATO_SAUCE_WHOLEMEAL_DOUGH_a8e0a4 |    12.5 |      95.5 |       28.8299 |              38 |       2770 | ['WHOLEMEAL DOUGH', 'TOMATO SAUCE', 'MOZZRELA', 'CHEDDAR', 'PINEAPPLE', 'APPLE', 'BACON', 'HAM', 'SAUSAGE', 'MUSHROOMS', 'ONIONS', 'PEPPER'] |\n",
                        "|  0 | BACON_CLASSIC_DOUGH_CREAM_SAUCE_HAM_MOZZRELA_ONIONS_PINEAPPLE_4a35f9                                           |     7.6 |      60.6 |       28.6291 |              24 |       1830 | ['CLASSIC DOUGH', 'CREAM SAUCE', 'MOZZRELA', 'PINEAPPLE', 'BACON', 'HAM', 'ONIONS']                                                          |\n",
                        "|  6 | BACON_CLASSIC_DOUGH_CREAM_SAUCE_HAM_MOZZRELA_ONIONS_PINEAPPLE_a3b107                                           |     7.6 |      60.6 |       28.6291 |              24 |       1830 | ['CLASSIC DOUGH', 'CREAM SAUCE', 'MOZZRELA', 'PINEAPPLE', 'BACON', 'HAM', 'ONIONS']                                                          |\n",
                        "|  3 | BACON_CLASSIC_DOUGH_HAM_MOZZRELA_ONIONS_PINEAPPLE_TOMATO_SAUCE_b288b4                                          |     7.5 |      60.5 |       28.7011 |              23 |       1820 | ['CLASSIC DOUGH', 'TOMATO SAUCE', 'MOZZRELA', 'PINEAPPLE', 'BACON', 'HAM', 'ONIONS']                                                         |\n",
                        "|  9 | BACON_CLASSIC_DOUGH_HAM_MOZZRELA_ONIONS_PINEAPPLE_TOMATO_SAUCE_e5d26f                                          |     7.5 |      60.5 |       28.7011 |              23 |       1820 | ['CLASSIC DOUGH', 'TOMATO SAUCE', 'MOZZRELA', 'PINEAPPLE', 'BACON', 'HAM', 'ONIONS']                                                         |\n",
                        "|  4 | APPLE_CHEDDAR_CREAM_SAUCE_MUSHROOMS_PEPPER_SAUSAGE_THIN_DOUGH_a46c67                                           |     6.6 |      45.6 |       27.6366 |              29 |       1080 | ['THIN DOUGH', 'CREAM SAUCE', 'CHEDDAR', 'APPLE', 'SAUSAGE', 'MUSHROOMS', 'PEPPER']                                                          |\n",
                        "|  1 | APPLE_CHEDDAR_MUSHROOMS_PEPPER_SAUSAGE_THIN_DOUGH_TOMATO_SAUCE_4ef03e                                          |     6.5 |      45.5 |       27.7086 |              28 |       1070 | ['THIN DOUGH', 'TOMATO SAUCE', 'CHEDDAR', 'APPLE', 'SAUSAGE', 'MUSHROOMS', 'PEPPER']                                                         |\n",
                        "|  7 | APPLE_CHEDDAR_MUSHROOMS_PEPPER_SAUSAGE_THIN_DOUGH_TOMATO_SAUCE_a6b1ad                                          |     6.5 |      45.5 |       27.7086 |              28 |       1070 | ['THIN DOUGH', 'TOMATO SAUCE', 'CHEDDAR', 'APPLE', 'SAUSAGE', 'MUSHROOMS', 'PEPPER']                                                         |\n"
                    ]
                }
            ],
            "source": [
                "# create a dataframe with the menu using the to_dataframe method you have implemented in the PizzaMenu class\n",
                "# and display it\n",
                "pizza_df = pizza_menu.to_dataframe(\"price\",True)\n",
                "print(pizza_df.to_markdown())"
            ]
        },
        {
            "cell_type": "code",
            "execution_count": 5,
            "metadata": {},
            "outputs": [
                {
                    "data": {
                        "text/html": [
                            "<div>\n",
                            "<style scoped>\n",
                            "    .dataframe tbody tr th:only-of-type {\n",
                            "        vertical-align: middle;\n",
                            "    }\n",
                            "\n",
                            "    .dataframe tbody tr th {\n",
                            "        vertical-align: top;\n",
                            "    }\n",
                            "\n",
                            "    .dataframe thead th {\n",
                            "        text-align: right;\n",
                            "    }\n",
                            "</style>\n",
                            "<table border=\"1\" class=\"dataframe\">\n",
                            "  <thead>\n",
                            "    <tr style=\"text-align: right;\">\n",
                            "      <th></th>\n",
                            "      <th>price</th>\n",
                            "      <th>protein</th>\n",
                            "      <th>average_fat</th>\n",
                            "      <th>carbohydrates</th>\n",
                            "      <th>calories</th>\n",
                            "    </tr>\n",
                            "  </thead>\n",
                            "  <tbody>\n",
                            "    <tr>\n",
                            "      <th>count</th>\n",
                            "      <td>10.00000</td>\n",
                            "      <td>10.000000</td>\n",
                            "      <td>10.000000</td>\n",
                            "      <td>10.000000</td>\n",
                            "      <td>10.000000</td>\n",
                            "    </tr>\n",
                            "    <tr>\n",
                            "      <th>mean</th>\n",
                            "      <td>8.75000</td>\n",
                            "      <td>66.550000</td>\n",
                            "      <td>28.411958</td>\n",
                            "      <td>29.500000</td>\n",
                            "      <td>1885.000000</td>\n",
                            "    </tr>\n",
                            "    <tr>\n",
                            "      <th>std</th>\n",
                            "      <td>2.67135</td>\n",
                            "      <td>21.068737</td>\n",
                            "      <td>0.506573</td>\n",
                            "      <td>6.687468</td>\n",
                            "      <td>697.316284</td>\n",
                            "    </tr>\n",
                            "    <tr>\n",
                            "      <th>min</th>\n",
                            "      <td>6.50000</td>\n",
                            "      <td>45.500000</td>\n",
                            "      <td>27.636551</td>\n",
                            "      <td>23.000000</td>\n",
                            "      <td>1070.000000</td>\n",
                            "    </tr>\n",
                            "    <tr>\n",
                            "      <th>25%</th>\n",
                            "      <td>6.82500</td>\n",
                            "      <td>49.325000</td>\n",
                            "      <td>27.938683</td>\n",
                            "      <td>24.000000</td>\n",
                            "      <td>1265.000000</td>\n",
                            "    </tr>\n",
                            "    <tr>\n",
                            "      <th>50%</th>\n",
                            "      <td>7.55000</td>\n",
                            "      <td>60.550000</td>\n",
                            "      <td>28.665064</td>\n",
                            "      <td>28.000000</td>\n",
                            "      <td>1825.000000</td>\n",
                            "    </tr>\n",
                            "    <tr>\n",
                            "      <th>75%</th>\n",
                            "      <td>11.27500</td>\n",
                            "      <td>86.775000</td>\n",
                            "      <td>28.766181</td>\n",
                            "      <td>35.750000</td>\n",
                            "      <td>2535.000000</td>\n",
                            "    </tr>\n",
                            "    <tr>\n",
                            "      <th>max</th>\n",
                            "      <td>12.60000</td>\n",
                            "      <td>95.600000</td>\n",
                            "      <td>28.829890</td>\n",
                            "      <td>39.000000</td>\n",
                            "      <td>2780.000000</td>\n",
                            "    </tr>\n",
                            "  </tbody>\n",
                            "</table>\n",
                            "</div>"
                        ],
                        "text/plain": [
                            "          price    protein  average_fat  carbohydrates     calories\n",
                            "count  10.00000  10.000000    10.000000      10.000000    10.000000\n",
                            "mean    8.75000  66.550000    28.411958      29.500000  1885.000000\n",
                            "std     2.67135  21.068737     0.506573       6.687468   697.316284\n",
                            "min     6.50000  45.500000    27.636551      23.000000  1070.000000\n",
                            "25%     6.82500  49.325000    27.938683      24.000000  1265.000000\n",
                            "50%     7.55000  60.550000    28.665064      28.000000  1825.000000\n",
                            "75%    11.27500  86.775000    28.766181      35.750000  2535.000000\n",
                            "max    12.60000  95.600000    28.829890      39.000000  2780.000000"
                        ]
                    },
                    "execution_count": 5,
                    "metadata": {},
                    "output_type": "execute_result"
                }
            ],
            "source": [
                "# compute basic descriptive statistics for the menu.\n",
                "# pay a special attention to the price column, as it is the most important one\n",
                "pizza_df.describe()"
            ]
        },
        {
            "cell_type": "code",
            "execution_count": 6,
            "metadata": {},
            "outputs": [
                {
                    "data": {
                        "text/plain": [
                            "<Axes: xlabel='price', ylabel='protein'>"
                        ]
                    },
                    "execution_count": 6,
                    "metadata": {},
                    "output_type": "execute_result"
                },
                {
                    "data": {
                        "image/png": "[encoded data removed]",
                        "text/plain": [
                            "<Figure size 640x480 with 1 Axes>"
                        ]
                    },
                    "metadata": {},
                    "output_type": "display_data"
                },
                {
                    "data": {
                        "image/png": "[encoded data removed]",
                        "text/plain": [
                            "<Figure size 640x480 with 1 Axes>"
                        ]
                    },
                    "metadata": {},
                    "output_type": "display_data"
                },
                {
                    "data": {
                        "image/png": "[encoded data removed]",
                        "text/plain": [
                            "<Figure size 640x480 with 1 Axes>"
                        ]
                    },
                    "metadata": {},
                    "output_type": "display_data"
                }
            ],
            "source": [
                "# Following steps are optional, but recommended:\n",
                "# 1. Create a boxplot for the price column\n",
                "pizza_df.boxplot(column='price')\n",
                "#Interpretaions\n",
                "#1. median < mean -> +ve skew (right tailed) upper quartile larger than lower\n",
                "\n",
                "\n",
                "# 2. Create a histogram for the price column\n",
                "pizza_df.hist(column = 'price',bins=3)\n",
                "\n",
                "\n",
                "# 3. Create a scatter plot for the price column and any other column of your choice\n",
                "# pizza_df.plot.scatter(x='price',y ='average_fat') # can not see pattern as such\n",
                "pizza_df.plot.scatter(x='price',y='protein')\n",
                "#seems +vely corelated"
            ]
        },
        {
            "cell_type": "code",
            "execution_count": null,
            "metadata": {},
            "outputs": [
                {
                    "name": "stdout",
                    "output_type": "stream",
                    "text": [
                        "Average price change for 1 unit increase in protein: 0.13\n",
                        "Average price change for 1 unit increase in protein: 3.50\n",
                        "Average price change for 1 unit increase in protein: 0.35\n"
                    ]
                }
            ],
            "source": [
                "# Try to answer follwing question:\n",
                "# 1. How much will price change on average if we increase the amount of protein in the pizza by 1 unit?\n",
                "# 2. How much will price change on average if we increase the amount of average_fat in the pizza by 1 unit?\n",
                "# 3. How much will price change on average if we increase the amount of carbohydrates in the pizza by 1 unit?\n",
                "\n",
                "# Hint: use functions that you have implemented in the pizza_sensitivities.py\n",
                "print(f\"Average price change for 1 unit increase in protein: {menu_sensitivity_protein(pizza_menu):.2f}\")\n",
                "print(f\"Average price change for 1 unit increase in fat: {menu_sensitivity_fat(pizza_menu):.2f}\")\n",
                "print(f\"Average price change for 1 unit increase in carbohydrates: {menu_sensitivity_carbs(pizza_menu):.2f}\")"
            ]
        },
        {
            "cell_type": "code",
            "execution_count": 8,
            "metadata": {},
            "outputs": [
                {
                    "name": "stdout",
                    "output_type": "stream",
                    "text": [
                        "TaR for BACON_CLASSIC_DOUGH_CREAM_SAUCE_HAM_MOZZRELA_ONIONS_PINEAPPLE_af8082: 41.80\n",
                        "TaR for APPLE_CHEDDAR_MUSHROOMS_PEPPER_SAUSAGE_THIN_DOUGH_TOMATO_SAUCE_f339ae: 32.27\n",
                        "TaR for APPLE_BACON_CHEDDAR_CREAM_SAUCE_HAM_MOZZRELA_MUSHROOMS_ONIONS_PEPPER_PINEAPPLE_SAUSAGE_WHOLEMEAL_DOUGH_6f6c5c: 66.61\n",
                        "TaR for BACON_CLASSIC_DOUGH_HAM_MOZZRELA_ONIONS_PINEAPPLE_TOMATO_SAUCE_1802d9: 42.00\n",
                        "TaR for APPLE_CHEDDAR_CREAM_SAUCE_MUSHROOMS_PEPPER_SAUSAGE_THIN_DOUGH_fdf8bc: 32.14\n",
                        "TaR for APPLE_BACON_CHEDDAR_HAM_MOZZRELA_MUSHROOMS_ONIONS_PEPPER_PINEAPPLE_SAUSAGE_TOMATO_SAUCE_WHOLEMEAL_DOUGH_4cb418: 66.80\n",
                        "TaR for BACON_CLASSIC_DOUGH_CREAM_SAUCE_HAM_MOZZRELA_ONIONS_PINEAPPLE_dc2896: 41.80\n",
                        "TaR for APPLE_CHEDDAR_MUSHROOMS_PEPPER_SAUSAGE_THIN_DOUGH_TOMATO_SAUCE_a82251: 32.27\n",
                        "TaR for APPLE_BACON_CHEDDAR_CREAM_SAUCE_HAM_MOZZRELA_MUSHROOMS_ONIONS_PEPPER_PINEAPPLE_SAUSAGE_WHOLEMEAL_DOUGH_6cbf50: 66.61\n",
                        "TaR for BACON_CLASSIC_DOUGH_HAM_MOZZRELA_ONIONS_PINEAPPLE_TOMATO_SAUCE_de2d0d: 42.00\n",
                        "Sum of individual pizza TaRs: 464.30\n",
                        "\n",
                        "TaR for the whole menu: 464.36\n"
                    ]
                }
            ],
            "source": [
                "# Compute Taste at Risk (TaR) for each pizza in the menu and for the whole menu and briefly comment on the results\n",
                "# Use quantile = 0.1\n",
                "# Answer following question:\n",
                "# 1. Does the sum of TaR for each pizza in the menu equal to the TaR of the whole menu and why?\n",
                "\n",
                "# Hint: use functions that you have implemented in the taste_at_risk.py\n",
                "pizza_tars = []\n",
                "for pizza in pizza_menu.pizzas:\n",
                "    tar = taste_at_risk_pizza(pizza, 0.1)\n",
                "    pizza_tars.append(tar)\n",
                "    print(f\"TaR for {pizza.name}: {tar:.2f}\")\n",
                "sum_pizza_tars = sum(pizza_tars)\n",
                "print(f\"Sum of individual pizza TaRs: {sum_pizza_tars:.2f}\")\n",
                "menu_tar = taste_at_risk_menu(pizza_menu, 0.1)\n",
                "print(f\"\\nTaR for the whole menu: {menu_tar:.2f}\")\n",
                "\n",
                "#No, the sum of TaR for each pizza in the menu is equal the TaR of the whole menu."
            ]
        },
        {
            "cell_type": "code",
            "execution_count": 9,
            "metadata": {},
            "outputs": [],
            "source": [
                "# Compute Conditional Taste at Risk (CTaR) for each pizza in the menu and for the whole menu and briefly comment on the results\n",
                "\n",
                "# Hint: use functions that you have implemented in the taste_at_risk.py\n"
            ]
        },
        {
            "cell_type": "code",
            "execution_count": 10,
            "metadata": {},
            "outputs": [],
            "source": [
                "# Define constraints_values and constraints_ingredients and find the optimal pizza using the func maximize_taste_penalty_price, that you have implemented in the pizza_optimizer.py\n",
                "# Use lambda_param = 0.5\n",
                "\n",
                "# Add this pizza to the menu using the add_pizza method of the PizzaMenu class\n"
            ]
        },
        {
            "cell_type": "code",
            "execution_count": 11,
            "metadata": {},
            "outputs": [],
            "source": [
                "# Compute the new TaR and CTaR for the whole new menu with added pizza\n"
            ]
        },
        {
            "cell_type": "code",
            "execution_count": 12,
            "metadata": {},
            "outputs": [],
            "source": [
                "# Compare old and new TaR and CTaR and briefly comment on the results."
            ]
        }
    ],
    "metadata": {
        "kernelspec": {
            "display_name": "Python 3",
            "language": "python",
            "name": "python3"
        },
        "language_info": {
            "codemirror_mode": {
                "name": "ipython",
                "version": 3
            },
            "file_extension": ".py",
            "mimetype": "text/x-python",
            "name": "python",
            "nbconvert_exporter": "python",
            "pygments_lexer": "ipython3",
            "version": "3.10.9"
        },
        "orig_nbformat": 4
    },
    "nbformat": 4,
    "nbformat_minor": 2
}
